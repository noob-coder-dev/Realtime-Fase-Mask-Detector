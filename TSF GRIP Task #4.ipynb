{
 "cells": [
  {
   "cell_type": "markdown",
   "id": "0a645fd4",
   "metadata": {},
   "source": [
    "# The Sparks Foundation\n",
    "# GRIP\n",
    "## **Domain**: Computer Vision & IoT\n",
    "\n",
    "Topic - _Detection of Face Mask_\n",
    "* Implemention of a real time face mask detector\n",
    "\n",
    "### Done by _Manojit Roy_"
   ]
  }
 ],
 "metadata": {
  "kernelspec": {
   "display_name": "Python 3",
   "language": "python",
   "name": "python3"
  },
  "language_info": {
   "codemirror_mode": {
    "name": "ipython",
    "version": 3
   },
   "file_extension": ".py",
   "mimetype": "text/x-python",
   "name": "python",
   "nbconvert_exporter": "python",
   "pygments_lexer": "ipython3",
   "version": "3.8.8"
  }
 },
 "nbformat": 4,
 "nbformat_minor": 5
}
